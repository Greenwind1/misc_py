{
 "cells": [
  {
   "cell_type": "markdown",
   "metadata": {
    "toc": true
   },
   "source": [
    "<h1>Table of Contents<span class=\"tocSkip\"></span></h1>\n",
    "<div class=\"toc\"><ul class=\"toc-item\"><li><span><a href=\"#Load-Packages\" data-toc-modified-id=\"Load-Packages-1\"><span class=\"toc-item-num\">1&nbsp;&nbsp;</span>Load Packages</a></span></li><li><span><a href=\"#Load-Data\" data-toc-modified-id=\"Load-Data-2\"><span class=\"toc-item-num\">2&nbsp;&nbsp;</span>Load Data</a></span></li><li><span><a href=\"#Detect-The-Named-Entities-Using-SpaCy\" data-toc-modified-id=\"Detect-The-Named-Entities-Using-SpaCy-3\"><span class=\"toc-item-num\">3&nbsp;&nbsp;</span>Detect The Named Entities Using SpaCy</a></span><ul class=\"toc-item\"><li><span><a href=\"#How-spacy-pre-trained-named-eintity-tagger-work?\" data-toc-modified-id=\"How-spacy-pre-trained-named-eintity-tagger-work?-3.1\"><span class=\"toc-item-num\">3.1&nbsp;&nbsp;</span>How spacy pre-trained named eintity tagger work?</a></span></li><li><span><a href=\"#Apply-to-all-sentences\" data-toc-modified-id=\"Apply-to-all-sentences-3.2\"><span class=\"toc-item-num\">3.2&nbsp;&nbsp;</span>Apply to all sentences</a></span></li><li><span><a href=\"#Find-The-Most-Common-Named-Entity-Types-Overall-And-By-Target-Class.\" data-toc-modified-id=\"Find-The-Most-Common-Named-Entity-Types-Overall-And-By-Target-Class.-3.3\"><span class=\"toc-item-num\">3.3&nbsp;&nbsp;</span>Find The Most Common Named Entity Types Overall And By Target Class.</a></span></li><li><span><a href=\"#Find-The-Most-Common-Named-Entities-Overall-And-By-Class\" data-toc-modified-id=\"Find-The-Most-Common-Named-Entities-Overall-And-By-Class-3.4\"><span class=\"toc-item-num\">3.4&nbsp;&nbsp;</span>Find The Most Common Named Entities Overall And By Class</a></span></li></ul></li><li><span><a href=\"#EOF\" data-toc-modified-id=\"EOF-4\"><span class=\"toc-item-num\">4&nbsp;&nbsp;</span>EOF</a></span></li></ul></div>"
   ]
  },
  {
   "cell_type": "markdown",
   "metadata": {},
   "source": [
    "***\n",
    "<br>\n",
    "<span style=\"font-size:40pt; color:skyblue;\"><b>\n",
    "Text Analysis  \n",
    "<br>\n",
    "With Named Entity Recognition  \n",
    "</b></span>"
   ]
  },
  {
   "cell_type": "markdown",
   "metadata": {},
   "source": [
    "<img src=\"spacy.jpg\" alt=\"Drawing\" style=\"width: 500px;\" align=\"left\"/>"
   ]
  },
  {
   "cell_type": "markdown",
   "metadata": {},
   "source": [
    "In this analysis,  \n",
    "we use the “Quora Insincere Questions Classification” dataset from kaggle.  \n",
    "  \n",
    "https://www.kaggle.com/c/quora-insincere-questions-classification/data\n",
    "***"
   ]
  },
  {
   "cell_type": "markdown",
   "metadata": {},
   "source": [
    "# Load Packages"
   ]
  },
  {
   "cell_type": "code",
   "execution_count": 30,
   "metadata": {
    "ExecuteTime": {
     "end_time": "2019-03-07T15:46:29.229225Z",
     "start_time": "2019-03-07T15:46:29.204224Z"
    }
   },
   "outputs": [
    {
     "data": {
      "text/html": [
       "<script>requirejs.config({paths: { 'plotly': ['https://cdn.plot.ly/plotly-latest.min']},});if(!window.Plotly) {{require(['plotly'],function(plotly) {window.Plotly=plotly;});}}</script>"
      ],
      "text/vnd.plotly.v1+html": [
       "<script>requirejs.config({paths: { 'plotly': ['https://cdn.plot.ly/plotly-latest.min']},});if(!window.Plotly) {{require(['plotly'],function(plotly) {window.Plotly=plotly;});}}</script>"
      ]
     },
     "metadata": {},
     "output_type": "display_data"
    }
   ],
   "source": [
    "%matplotlib inline\n",
    "%config InlineBackend.figure_format = 'retina'\n",
    "\n",
    "import gc\n",
    "import os\n",
    "import psutil\n",
    "import numpy as np\n",
    "import pandas as pd\n",
    "import matplotlib.pyplot as plt\n",
    "\n",
    "import seaborn as sns\n",
    "sns.set(font_scale=1.2)\n",
    "\n",
    "import warnings\n",
    "\n",
    "pd.set_option('display.max_columns', 200)\n",
    "pd.set_option('display.max_rows', 100)\n",
    "warnings.simplefilter(action='ignore', category=FutureWarning)\n",
    "warnings.simplefilter(action='ignore', category=UserWarning)\n",
    "\n",
    "plt.style.use('ggplot')\n",
    "\n",
    "from plotly import tools\n",
    "import plotly.offline as py\n",
    "py.init_notebook_mode(connected=True)\n",
    "import plotly.graph_objs as go\n",
    "\n",
    "import spacy\n",
    "from spacy import displacy\n",
    "\n",
    "from collections import Counter"
   ]
  },
  {
   "cell_type": "markdown",
   "metadata": {},
   "source": [
    "# Load Data"
   ]
  },
  {
   "cell_type": "code",
   "execution_count": 3,
   "metadata": {
    "ExecuteTime": {
     "end_time": "2019-03-07T15:06:20.376447Z",
     "start_time": "2019-03-07T15:06:20.341445Z"
    }
   },
   "outputs": [],
   "source": [
    "train = pd.read_csv('train_s.zip')"
   ]
  },
  {
   "cell_type": "code",
   "execution_count": 6,
   "metadata": {
    "ExecuteTime": {
     "end_time": "2019-03-07T15:06:56.703524Z",
     "start_time": "2019-03-07T15:06:56.689524Z"
    }
   },
   "outputs": [
    {
     "name": "stdout",
     "output_type": "stream",
     "text": [
      "<class 'pandas.core.frame.DataFrame'>\n",
      "RangeIndex: 10000 entries, 0 to 9999\n",
      "Data columns (total 3 columns):\n",
      "qid              10000 non-null object\n",
      "question_text    10000 non-null object\n",
      "target           10000 non-null int64\n",
      "dtypes: int64(1), object(2)\n",
      "memory usage: 234.5+ KB\n"
     ]
    }
   ],
   "source": [
    "train.info()"
   ]
  },
  {
   "cell_type": "code",
   "execution_count": 4,
   "metadata": {
    "ExecuteTime": {
     "end_time": "2019-03-07T15:06:28.427907Z",
     "start_time": "2019-03-07T15:06:28.415906Z"
    }
   },
   "outputs": [
    {
     "data": {
      "text/html": [
       "<div>\n",
       "<style scoped>\n",
       "    .dataframe tbody tr th:only-of-type {\n",
       "        vertical-align: middle;\n",
       "    }\n",
       "\n",
       "    .dataframe tbody tr th {\n",
       "        vertical-align: top;\n",
       "    }\n",
       "\n",
       "    .dataframe thead th {\n",
       "        text-align: right;\n",
       "    }\n",
       "</style>\n",
       "<table border=\"1\" class=\"dataframe\">\n",
       "  <thead>\n",
       "    <tr style=\"text-align: right;\">\n",
       "      <th></th>\n",
       "      <th>qid</th>\n",
       "      <th>question_text</th>\n",
       "      <th>target</th>\n",
       "    </tr>\n",
       "  </thead>\n",
       "  <tbody>\n",
       "    <tr>\n",
       "      <th>0</th>\n",
       "      <td>00002165364db923c7e6</td>\n",
       "      <td>How did Quebec nationalists see their province...</td>\n",
       "      <td>0</td>\n",
       "    </tr>\n",
       "    <tr>\n",
       "      <th>1</th>\n",
       "      <td>000032939017120e6e44</td>\n",
       "      <td>Do you have an adopted dog, how would you enco...</td>\n",
       "      <td>0</td>\n",
       "    </tr>\n",
       "    <tr>\n",
       "      <th>2</th>\n",
       "      <td>0000412ca6e4628ce2cf</td>\n",
       "      <td>Why does velocity affect time? Does velocity a...</td>\n",
       "      <td>0</td>\n",
       "    </tr>\n",
       "    <tr>\n",
       "      <th>3</th>\n",
       "      <td>000042bf85aa498cd78e</td>\n",
       "      <td>How did Otto von Guericke used the Magdeburg h...</td>\n",
       "      <td>0</td>\n",
       "    </tr>\n",
       "    <tr>\n",
       "      <th>4</th>\n",
       "      <td>0000455dfa3e01eae3af</td>\n",
       "      <td>Can I convert montra helicon D to a mountain b...</td>\n",
       "      <td>0</td>\n",
       "    </tr>\n",
       "  </tbody>\n",
       "</table>\n",
       "</div>"
      ],
      "text/plain": [
       "                    qid                                      question_text  \\\n",
       "0  00002165364db923c7e6  How did Quebec nationalists see their province...   \n",
       "1  000032939017120e6e44  Do you have an adopted dog, how would you enco...   \n",
       "2  0000412ca6e4628ce2cf  Why does velocity affect time? Does velocity a...   \n",
       "3  000042bf85aa498cd78e  How did Otto von Guericke used the Magdeburg h...   \n",
       "4  0000455dfa3e01eae3af  Can I convert montra helicon D to a mountain b...   \n",
       "\n",
       "   target  \n",
       "0       0  \n",
       "1       0  \n",
       "2       0  \n",
       "3       0  \n",
       "4       0  "
      ]
     },
     "execution_count": 4,
     "metadata": {},
     "output_type": "execute_result"
    }
   ],
   "source": [
    "train.head()"
   ]
  },
  {
   "cell_type": "markdown",
   "metadata": {},
   "source": [
    "# Detect The Named Entities Using SpaCy"
   ]
  },
  {
   "cell_type": "markdown",
   "metadata": {},
   "source": [
    "We use the pre-trained named entity tagger of the popular spaCy library.  \n",
    "The models are trained on the OntoNotes 5 corpus and supports 18 named entity types.  \n",
    "The list of supported types can be found here: https://spacy.io/usage/linguistic-features#entity-types"
   ]
  },
  {
   "cell_type": "markdown",
   "metadata": {},
   "source": [
    "## How spacy pre-trained named eintity tagger work?"
   ]
  },
  {
   "cell_type": "code",
   "execution_count": 19,
   "metadata": {
    "ExecuteTime": {
     "end_time": "2019-03-07T15:37:46.060301Z",
     "start_time": "2019-03-07T15:37:45.441266Z"
    },
    "collapsed": true
   },
   "outputs": [],
   "source": [
    "nlp = spacy.load('en', parse=False, entity=True)"
   ]
  },
  {
   "cell_type": "code",
   "execution_count": 20,
   "metadata": {
    "ExecuteTime": {
     "end_time": "2019-03-07T15:37:46.068302Z",
     "start_time": "2019-03-07T15:37:46.061302Z"
    }
   },
   "outputs": [
    {
     "name": "stdout",
     "output_type": "stream",
     "text": [
      "How did Quebec nationalists see their province as a nation in the 1960s?\n"
     ]
    }
   ],
   "source": [
    "sentence = str(train.iloc[0].question_text)\n",
    "print(sentence)"
   ]
  },
  {
   "cell_type": "code",
   "execution_count": 21,
   "metadata": {
    "ExecuteTime": {
     "end_time": "2019-03-07T15:37:46.115305Z",
     "start_time": "2019-03-07T15:37:46.070302Z"
    },
    "collapsed": true
   },
   "outputs": [],
   "source": [
    "sentence_nlp = nlp(sentence)"
   ]
  },
  {
   "cell_type": "markdown",
   "metadata": {},
   "source": [
    "check Named Entities"
   ]
  },
  {
   "cell_type": "code",
   "execution_count": 22,
   "metadata": {
    "ExecuteTime": {
     "end_time": "2019-03-07T15:37:46.154307Z",
     "start_time": "2019-03-07T15:37:46.116305Z"
    }
   },
   "outputs": [
    {
     "name": "stdout",
     "output_type": "stream",
     "text": [
      "[(Quebec, 'GPE'), (the, 'DATE'), (1960s, 'DATE')]\n"
     ]
    }
   ],
   "source": [
    "print([(word, word.ent_type_) for word in sentence_nlp if word.ent_type_])"
   ]
  },
  {
   "cell_type": "markdown",
   "metadata": {},
   "source": [
    "Vizualization"
   ]
  },
  {
   "cell_type": "code",
   "execution_count": 24,
   "metadata": {
    "ExecuteTime": {
     "end_time": "2019-03-07T15:41:27.494967Z",
     "start_time": "2019-03-07T15:41:27.489967Z"
    }
   },
   "outputs": [
    {
     "data": {
      "text/html": [
       "<div class=\"entities\" style=\"line-height: 2.5\">How did \n",
       "<mark class=\"entity\" style=\"background: #feca74; padding: 0.45em 0.6em; margin: 0 0.25em; line-height: 1; border-radius: 0.35em; box-decoration-break: clone; -webkit-box-decoration-break: clone\">\n",
       "    Quebec\n",
       "    <span style=\"font-size: 0.8em; font-weight: bold; line-height: 1; border-radius: 0.35em; text-transform: uppercase; vertical-align: middle; margin-left: 0.5rem\">GPE</span>\n",
       "</mark>\n",
       " nationalists see their province as a nation in \n",
       "<mark class=\"entity\" style=\"background: #bfe1d9; padding: 0.45em 0.6em; margin: 0 0.25em; line-height: 1; border-radius: 0.35em; box-decoration-break: clone; -webkit-box-decoration-break: clone\">\n",
       "    the 1960s\n",
       "    <span style=\"font-size: 0.8em; font-weight: bold; line-height: 1; border-radius: 0.35em; text-transform: uppercase; vertical-align: middle; margin-left: 0.5rem\">DATE</span>\n",
       "</mark>\n",
       "?</div>"
      ],
      "text/plain": [
       "<IPython.core.display.HTML object>"
      ]
     },
     "metadata": {},
     "output_type": "display_data"
    }
   ],
   "source": [
    "displacy.render(sentence_nlp, style='ent', jupyter=True)"
   ]
  },
  {
   "cell_type": "markdown",
   "metadata": {},
   "source": [
    "## Apply to all sentences"
   ]
  },
  {
   "cell_type": "code",
   "execution_count": 23,
   "metadata": {
    "ExecuteTime": {
     "end_time": "2019-03-07T15:39:16.513475Z",
     "start_time": "2019-03-07T15:37:48.306430Z"
    }
   },
   "outputs": [
    {
     "name": "stdout",
     "output_type": "stream",
     "text": [
      "Wall time: 1min 28s\n"
     ]
    }
   ],
   "source": [
    "%%time\n",
    "ner_questions = [(nlp(s), t) for s, t in zip(train.question_text, train.target)]"
   ]
  },
  {
   "cell_type": "markdown",
   "metadata": {},
   "source": [
    "## Find The Most Common Named Entity Types Overall And By Target Class."
   ]
  },
  {
   "cell_type": "code",
   "execution_count": 25,
   "metadata": {
    "ExecuteTime": {
     "end_time": "2019-03-07T15:44:33.779622Z",
     "start_time": "2019-03-07T15:44:33.665615Z"
    },
    "collapsed": true
   },
   "outputs": [],
   "source": [
    "net_question = [([w.ent_type_ for w in s if w.ent_type_], t) for s, t in ner_questions]\n",
    "\n",
    "# if no named entity found, add \"None\"\n",
    "net_question = [(s, t) if s else ([\"None\"], t) for s, t in net_question]"
   ]
  },
  {
   "cell_type": "code",
   "execution_count": 28,
   "metadata": {
    "ExecuteTime": {
     "end_time": "2019-03-07T15:45:27.056669Z",
     "start_time": "2019-03-07T15:45:27.051669Z"
    }
   },
   "outputs": [
    {
     "data": {
      "text/plain": [
       "[(['GPE', 'DATE', 'DATE'], 0),\n",
       " (['None'], 0),\n",
       " (['None'], 0),\n",
       " (['PERSON', 'PERSON', 'PERSON', 'PERSON'], 0),\n",
       " (['None'], 0)]"
      ]
     },
     "execution_count": 28,
     "metadata": {},
     "output_type": "execute_result"
    }
   ],
   "source": [
    "net_question[:5]"
   ]
  },
  {
   "cell_type": "markdown",
   "metadata": {},
   "source": [
    "Flatten the named entity types list"
   ]
  },
  {
   "cell_type": "code",
   "execution_count": 29,
   "metadata": {
    "ExecuteTime": {
     "end_time": "2019-03-07T15:46:05.687879Z",
     "start_time": "2019-03-07T15:46:05.682878Z"
    },
    "collapsed": true
   },
   "outputs": [],
   "source": [
    "ners = [ne for n in net_question for ne in n[0]]"
   ]
  },
  {
   "cell_type": "code",
   "execution_count": 32,
   "metadata": {
    "ExecuteTime": {
     "end_time": "2019-03-07T15:47:18.105021Z",
     "start_time": "2019-03-07T15:47:18.099020Z"
    }
   },
   "outputs": [
    {
     "data": {
      "text/plain": [
       "[('None', 4819),\n",
       " ('ORG', 3248),\n",
       " ('PERSON', 2044),\n",
       " ('GPE', 2002),\n",
       " ('DATE', 1655),\n",
       " ('NORP', 1118),\n",
       " ('CARDINAL', 711),\n",
       " ('LOC', 243),\n",
       " ('WORK_OF_ART', 210),\n",
       " ('PRODUCT', 167)]"
      ]
     },
     "execution_count": 32,
     "metadata": {},
     "output_type": "execute_result"
    }
   ],
   "source": [
    "ner_cnt = Counter(ners)\n",
    "ner_cnt.most_common(10)"
   ]
  },
  {
   "cell_type": "markdown",
   "metadata": {},
   "source": [
    "Group the named entity types by target class"
   ]
  },
  {
   "cell_type": "markdown",
   "metadata": {},
   "source": [
    "- sincere NE"
   ]
  },
  {
   "cell_type": "code",
   "execution_count": 33,
   "metadata": {
    "ExecuteTime": {
     "end_time": "2019-03-07T15:49:11.367499Z",
     "start_time": "2019-03-07T15:49:11.357498Z"
    }
   },
   "outputs": [
    {
     "data": {
      "text/plain": [
       "[('None', 4646),\n",
       " ('ORG', 3013),\n",
       " ('PERSON', 1805),\n",
       " ('GPE', 1797),\n",
       " ('DATE', 1589),\n",
       " ('NORP', 731),\n",
       " ('CARDINAL', 668),\n",
       " ('LOC', 213),\n",
       " ('WORK_OF_ART', 192),\n",
       " ('PRODUCT', 163)]"
      ]
     },
     "execution_count": 33,
     "metadata": {},
     "output_type": "execute_result"
    }
   ],
   "source": [
    "sincere_ners = [ne for n in net_question for ne in n[0] if not n[1]]\n",
    "ner_cnt = Counter(sincere_ners)\n",
    "ner_cnt.most_common(10)"
   ]
  },
  {
   "cell_type": "markdown",
   "metadata": {},
   "source": [
    "- insincere NE"
   ]
  },
  {
   "cell_type": "code",
   "execution_count": 34,
   "metadata": {
    "ExecuteTime": {
     "end_time": "2019-03-07T15:49:22.403130Z",
     "start_time": "2019-03-07T15:49:22.396130Z"
    }
   },
   "outputs": [
    {
     "data": {
      "text/plain": [
       "[('NORP', 387),\n",
       " ('PERSON', 239),\n",
       " ('ORG', 235),\n",
       " ('GPE', 205),\n",
       " ('None', 173),\n",
       " ('DATE', 66),\n",
       " ('CARDINAL', 43),\n",
       " ('LOC', 30),\n",
       " ('WORK_OF_ART', 18),\n",
       " ('EVENT', 13)]"
      ]
     },
     "execution_count": 34,
     "metadata": {},
     "output_type": "execute_result"
    }
   ],
   "source": [
    "insincere_ners = [ne for n in net_question for ne in n[0] if n[1]]\n",
    "ner_cnt = Counter(insincere_ners)\n",
    "ner_cnt.most_common(10)"
   ]
  },
  {
   "cell_type": "markdown",
   "metadata": {},
   "source": [
    "## Find The Most Common Named Entities Overall And By Class"
   ]
  },
  {
   "cell_type": "code",
   "execution_count": 35,
   "metadata": {
    "ExecuteTime": {
     "end_time": "2019-03-07T15:51:22.213983Z",
     "start_time": "2019-03-07T15:51:22.145979Z"
    },
    "collapsed": true
   },
   "outputs": [],
   "source": [
    "net_question = [([w.text for w in s if w.ent_type_], t) for s, t in ner_questions]\n",
    "\n",
    "# if no named entity found, add \"None\"\n",
    "net_question = [(s, t) if s else ([\"None\"], t) for s, t in net_question]"
   ]
  },
  {
   "cell_type": "code",
   "execution_count": 36,
   "metadata": {
    "ExecuteTime": {
     "end_time": "2019-03-07T15:52:17.557148Z",
     "start_time": "2019-03-07T15:52:17.547148Z"
    }
   },
   "outputs": [
    {
     "data": {
      "text/plain": [
       "[('None', 4819),\n",
       " ('the', 262),\n",
       " ('India', 255),\n",
       " ('year', 112),\n",
       " ('Indian', 107),\n",
       " ('Quora', 106),\n",
       " ('one', 104),\n",
       " ('years', 104),\n",
       " ('Trump', 97),\n",
       " ('US', 92)]"
      ]
     },
     "execution_count": 36,
     "metadata": {},
     "output_type": "execute_result"
    }
   ],
   "source": [
    "ners = [ne for n in net_question for ne in n[0]]\n",
    "ner_cnt = Counter(ners)\n",
    "ner_cnt.most_common(10)"
   ]
  },
  {
   "cell_type": "markdown",
   "metadata": {},
   "source": [
    "- sincere NE"
   ]
  },
  {
   "cell_type": "code",
   "execution_count": 37,
   "metadata": {
    "ExecuteTime": {
     "end_time": "2019-03-07T15:52:20.965343Z",
     "start_time": "2019-03-07T15:52:20.955343Z"
    }
   },
   "outputs": [
    {
     "data": {
      "text/plain": [
       "[('None', 4646),\n",
       " ('the', 238),\n",
       " ('India', 222),\n",
       " ('year', 109),\n",
       " ('one', 99),\n",
       " ('years', 97),\n",
       " ('Indian', 85),\n",
       " ('-', 85),\n",
       " ('Quora', 83),\n",
       " (\"'s\", 79)]"
      ]
     },
     "execution_count": 37,
     "metadata": {},
     "output_type": "execute_result"
    }
   ],
   "source": [
    "sincere_ners = [ne for n in net_question for ne in n[0] if not n[1]]\n",
    "ner_cnt = Counter(sincere_ners)\n",
    "ner_cnt.most_common(10)"
   ]
  },
  {
   "cell_type": "markdown",
   "metadata": {},
   "source": [
    "- insincere NE"
   ]
  },
  {
   "cell_type": "code",
   "execution_count": 38,
   "metadata": {
    "ExecuteTime": {
     "end_time": "2019-03-07T15:52:27.194699Z",
     "start_time": "2019-03-07T15:52:27.187699Z"
    }
   },
   "outputs": [
    {
     "data": {
      "text/plain": [
       "[('None', 173),\n",
       " ('Trump', 55),\n",
       " ('India', 33),\n",
       " ('Muslims', 28),\n",
       " ('the', 24),\n",
       " ('Quora', 23),\n",
       " ('Indian', 22),\n",
       " ('Americans', 20),\n",
       " ('Indians', 18),\n",
       " ('Chinese', 16)]"
      ]
     },
     "execution_count": 38,
     "metadata": {},
     "output_type": "execute_result"
    }
   ],
   "source": [
    "insincere_ners = [ne for n in net_question for ne in n[0] if n[1]]\n",
    "ner_cnt = Counter(insincere_ners)\n",
    "ner_cnt.most_common(10)"
   ]
  },
  {
   "cell_type": "markdown",
   "metadata": {},
   "source": [
    "A lot of the insincere questions are focusing on “Trump”, “Muslims” and “Indians”.  \n",
    "So insincere questions seem to have racist content.  "
   ]
  },
  {
   "cell_type": "markdown",
   "metadata": {},
   "source": [
    "# EOF"
   ]
  }
 ],
 "metadata": {
  "kernelspec": {
   "display_name": "Python 3",
   "language": "python",
   "name": "python3"
  },
  "language_info": {
   "codemirror_mode": {
    "name": "ipython",
    "version": 3
   },
   "file_extension": ".py",
   "mimetype": "text/x-python",
   "name": "python",
   "nbconvert_exporter": "python",
   "pygments_lexer": "ipython3",
   "version": "3.5.5"
  },
  "toc": {
   "base_numbering": 1,
   "nav_menu": {},
   "number_sections": true,
   "sideBar": true,
   "skip_h1_title": false,
   "title_cell": "Table of Contents",
   "title_sidebar": "Contents",
   "toc_cell": true,
   "toc_position": {},
   "toc_section_display": true,
   "toc_window_display": true
  }
 },
 "nbformat": 4,
 "nbformat_minor": 2
}
